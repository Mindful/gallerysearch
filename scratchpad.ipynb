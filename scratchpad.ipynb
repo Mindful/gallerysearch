{
 "cells": [
  {
   "cell_type": "code",
   "id": "initial_id",
   "metadata": {
    "collapsed": true,
    "ExecuteTime": {
     "end_time": "2025-03-09T07:25:13.092991Z",
     "start_time": "2025-03-09T07:25:12.769523Z"
    }
   },
   "source": [
    "from gallerysearch.index import TagIndex\n",
    "\n",
    "\"\"\"Experimenting with trying to get to semantic search by embedding tags, but doesn't work very well\"\"\"\n",
    "\n",
    "i = TagIndex('localdir')\n"
   ],
   "outputs": [
    {
     "name": "stderr",
     "output_type": "stream",
     "text": [
      "Loading tags: 100%|██████████| 3133/3133 [00:00<00:00, 21501.23it/s]\n"
     ]
    }
   ],
   "execution_count": 48
  },
  {
   "metadata": {
    "ExecuteTime": {
     "end_time": "2025-03-09T07:48:21.252622Z",
     "start_time": "2025-03-09T07:48:00.424395Z"
    }
   },
   "cell_type": "code",
   "source": [
    "import faiss\n",
    "from sentence_transformers import SentenceTransformer\n",
    "\n",
    "tags = [x.replace('_', ' ') for x in i.pairs_by_tag.keys()]\n",
    "model = SentenceTransformer(\"all-MiniLM-L6-v2\")\n",
    "\n",
    "# Encode tags into embeddings\n",
    "embeddings = model.encode(tags, convert_to_numpy=True, show_progress_bar=True)\n",
    "\n",
    "# Create a FAISS index\n",
    "d = embeddings.shape[1]  # Dimension of embeddings\n",
    "index = faiss.IndexFlatL2(d)  # L2 (Euclidean) distance index\n",
    "index.add(embeddings)  # Add embeddings to the index"
   ],
   "id": "838f452a0d79aed5",
   "outputs": [
    {
     "name": "stderr",
     "output_type": "stream",
     "text": [
      "Batches: 100%|██████████| 268/268 [00:19<00:00, 13.75it/s]\n"
     ]
    }
   ],
   "execution_count": 56
  },
  {
   "metadata": {
    "ExecuteTime": {
     "end_time": "2025-03-09T17:53:49.954682Z",
     "start_time": "2025-03-09T17:53:14.326793Z"
    }
   },
   "cell_type": "code",
   "source": [
    "from IPython.display import display\n",
    "from PIL import Image\n",
    "import math\n",
    "\n",
    "# Function to search the index\n",
    "def search_faiss(query, k=5):\n",
    "    query_embedding = model.encode([query], convert_to_numpy=True)\n",
    "    distances, indices = index.search(query_embedding, k)\n",
    "    return [(tags[idx], distances[0][i]) for i, idx in enumerate(indices[0])]\n",
    "\n",
    "# Example Query\n",
    "query = \"beach and ocean\"\n",
    "results = search_faiss(query, k=len(tags))\n",
    "\n",
    "# Print results\n",
    "tag_scores = {x: float(y) for x,y in results}\n",
    "\n",
    "def image_score(img_tags: list[str]):\n",
    "    img_tags = [x.replace('_', ' ') for x in img_tags]\n",
    "    scores = [tag_scores.get(tag, 0) for tag in img_tags]\n",
    "\n",
    "    # return average of top 5 tags\n",
    "    #return sum(sorted(scores, reverse=True)[:5]) / 5\n",
    "\n",
    "    return sum(scores) / len(scores)\n",
    "\n",
    "scored_images = [\n",
    "    (pair, image_score(img_tags))\n",
    "    for pair, img_tags in i.tags_by_pair.items()\n",
    "]\n",
    "scored_images.sort(key=lambda x: x[1], reverse=True)\n",
    "\n",
    "# List of image paths\n",
    "image_paths = [x[0].img_file for x in scored_images[:5]]\n",
    "\n",
    "# Open and display images\n",
    "new_size = (300, 300)\n",
    "\n",
    "# Open, resize, and display images\n",
    "images = [Image.open(path).resize(new_size).convert(\"RGB\") for path in image_paths]\n",
    "display(*images)\n",
    "print(image_paths)"
   ],
   "id": "44ec49fa1559fc06",
   "outputs": [
    {
     "ename": "KeyboardInterrupt",
     "evalue": "",
     "output_type": "error",
     "traceback": [
      "\u001B[31m---------------------------------------------------------------------------\u001B[39m",
      "\u001B[31mKeyboardInterrupt\u001B[39m                         Traceback (most recent call last)",
      "\u001B[36mCell\u001B[39m\u001B[36m \u001B[39m\u001B[32mIn[61]\u001B[39m\u001B[32m, line 28\u001B[39m\n\u001B[32m     22\u001B[39m     \u001B[38;5;66;03m# return average of top 5 tags\u001B[39;00m\n\u001B[32m     23\u001B[39m     \u001B[38;5;66;03m#return sum(sorted(scores, reverse=True)[:5]) / 5\u001B[39;00m\n\u001B[32m     25\u001B[39m     \u001B[38;5;28;01mreturn\u001B[39;00m \u001B[38;5;28msum\u001B[39m(scores) / \u001B[38;5;28mlen\u001B[39m(scores)\n\u001B[32m     27\u001B[39m scored_images = [\n\u001B[32m---> \u001B[39m\u001B[32m28\u001B[39m     (pair, \u001B[43mimage_score\u001B[49m\u001B[43m(\u001B[49m\u001B[43mimg_tags\u001B[49m\u001B[43m)\u001B[49m)\n\u001B[32m     29\u001B[39m     \u001B[38;5;28;01mfor\u001B[39;00m pair, img_tags \u001B[38;5;129;01min\u001B[39;00m i.tags_by_pair.items()\n\u001B[32m     30\u001B[39m ]\n\u001B[32m     31\u001B[39m scored_images.sort(key=\u001B[38;5;28;01mlambda\u001B[39;00m x: x[\u001B[32m1\u001B[39m], reverse=\u001B[38;5;28;01mTrue\u001B[39;00m)\n\u001B[32m     33\u001B[39m \u001B[38;5;66;03m# List of image paths\u001B[39;00m\n",
      "\u001B[36mCell\u001B[39m\u001B[36m \u001B[39m\u001B[32mIn[61]\u001B[39m\u001B[32m, line 25\u001B[39m, in \u001B[36mimage_score\u001B[39m\u001B[34m(img_tags)\u001B[39m\n\u001B[32m     20\u001B[39m scores = [tag_scores.get(tag, \u001B[32m0\u001B[39m) \u001B[38;5;28;01mfor\u001B[39;00m tag \u001B[38;5;129;01min\u001B[39;00m img_tags]\n\u001B[32m     22\u001B[39m \u001B[38;5;66;03m# return average of top 5 tags\u001B[39;00m\n\u001B[32m     23\u001B[39m \u001B[38;5;66;03m#return sum(sorted(scores, reverse=True)[:5]) / 5\u001B[39;00m\n\u001B[32m---> \u001B[39m\u001B[32m25\u001B[39m \u001B[38;5;28;01mreturn\u001B[39;00m \u001B[38;5;28;43msum\u001B[39;49m(scores) / \u001B[38;5;28mlen\u001B[39m(scores)\n",
      "\u001B[36mFile \u001B[39m\u001B[32m/app/extra/plugins/python-ce/helpers/pydev/_pydevd_bundle/pydevd_frame.py:755\u001B[39m, in \u001B[36mPyDBFrame.trace_dispatch\u001B[39m\u001B[34m(self, frame, event, arg)\u001B[39m\n\u001B[32m    753\u001B[39m \u001B[38;5;66;03m# if thread has a suspend flag, we suspend with a busy wait\u001B[39;00m\n\u001B[32m    754\u001B[39m \u001B[38;5;28;01mif\u001B[39;00m info.pydev_state == STATE_SUSPEND:\n\u001B[32m--> \u001B[39m\u001B[32m755\u001B[39m     \u001B[38;5;28;43mself\u001B[39;49m\u001B[43m.\u001B[49m\u001B[43mdo_wait_suspend\u001B[49m\u001B[43m(\u001B[49m\u001B[43mthread\u001B[49m\u001B[43m,\u001B[49m\u001B[43m \u001B[49m\u001B[43mframe\u001B[49m\u001B[43m,\u001B[49m\u001B[43m \u001B[49m\u001B[43mevent\u001B[49m\u001B[43m,\u001B[49m\u001B[43m \u001B[49m\u001B[43marg\u001B[49m\u001B[43m)\u001B[49m\n\u001B[32m    756\u001B[39m     \u001B[38;5;66;03m# No need to reset frame.f_trace to keep the same trace function.\u001B[39;00m\n\u001B[32m    757\u001B[39m     \u001B[38;5;28;01mreturn\u001B[39;00m \u001B[38;5;28mself\u001B[39m.trace_dispatch\n",
      "\u001B[36mFile \u001B[39m\u001B[32m/app/extra/plugins/python-ce/helpers/pydev/_pydevd_bundle/pydevd_frame.py:412\u001B[39m, in \u001B[36mPyDBFrame.do_wait_suspend\u001B[39m\u001B[34m(self, *args, **kwargs)\u001B[39m\n\u001B[32m    411\u001B[39m \u001B[38;5;28;01mdef\u001B[39;00m\u001B[38;5;250m \u001B[39m\u001B[34mdo_wait_suspend\u001B[39m(\u001B[38;5;28mself\u001B[39m, *args, **kwargs):\n\u001B[32m--> \u001B[39m\u001B[32m412\u001B[39m     \u001B[38;5;28;43mself\u001B[39;49m\u001B[43m.\u001B[49m\u001B[43m_args\u001B[49m\u001B[43m[\u001B[49m\u001B[32;43m0\u001B[39;49m\u001B[43m]\u001B[49m\u001B[43m.\u001B[49m\u001B[43mdo_wait_suspend\u001B[49m\u001B[43m(\u001B[49m\u001B[43m*\u001B[49m\u001B[43margs\u001B[49m\u001B[43m,\u001B[49m\u001B[43m \u001B[49m\u001B[43m*\u001B[49m\u001B[43m*\u001B[49m\u001B[43mkwargs\u001B[49m\u001B[43m)\u001B[49m\n",
      "\u001B[36mFile \u001B[39m\u001B[32m/app/extra/plugins/python-ce/helpers/pydev/pydevd.py:1220\u001B[39m, in \u001B[36mPyDB.do_wait_suspend\u001B[39m\u001B[34m(self, thread, frame, event, arg, send_suspend_message, is_unhandled_exception)\u001B[39m\n\u001B[32m   1217\u001B[39m         from_this_thread.append(frame_id)\n\u001B[32m   1219\u001B[39m \u001B[38;5;28;01mwith\u001B[39;00m \u001B[38;5;28mself\u001B[39m._threads_suspended_single_notification.notify_thread_suspended(thread_id, stop_reason):\n\u001B[32m-> \u001B[39m\u001B[32m1220\u001B[39m     \u001B[38;5;28;43mself\u001B[39;49m\u001B[43m.\u001B[49m\u001B[43m_do_wait_suspend\u001B[49m\u001B[43m(\u001B[49m\u001B[43mthread\u001B[49m\u001B[43m,\u001B[49m\u001B[43m \u001B[49m\u001B[43mframe\u001B[49m\u001B[43m,\u001B[49m\u001B[43m \u001B[49m\u001B[43mevent\u001B[49m\u001B[43m,\u001B[49m\u001B[43m \u001B[49m\u001B[43marg\u001B[49m\u001B[43m,\u001B[49m\u001B[43m \u001B[49m\u001B[43msuspend_type\u001B[49m\u001B[43m,\u001B[49m\u001B[43m \u001B[49m\u001B[43mfrom_this_thread\u001B[49m\u001B[43m)\u001B[49m\n",
      "\u001B[36mFile \u001B[39m\u001B[32m/app/extra/plugins/python-ce/helpers/pydev/pydevd.py:1235\u001B[39m, in \u001B[36mPyDB._do_wait_suspend\u001B[39m\u001B[34m(self, thread, frame, event, arg, suspend_type, from_this_thread)\u001B[39m\n\u001B[32m   1232\u001B[39m             \u001B[38;5;28mself\u001B[39m._call_mpl_hook()\n\u001B[32m   1234\u001B[39m         \u001B[38;5;28mself\u001B[39m.process_internal_commands()\n\u001B[32m-> \u001B[39m\u001B[32m1235\u001B[39m         \u001B[43mtime\u001B[49m\u001B[43m.\u001B[49m\u001B[43msleep\u001B[49m\u001B[43m(\u001B[49m\u001B[32;43m0.01\u001B[39;49m\u001B[43m)\u001B[49m\n\u001B[32m   1237\u001B[39m \u001B[38;5;28mself\u001B[39m.cancel_async_evaluation(get_current_thread_id(thread), \u001B[38;5;28mstr\u001B[39m(\u001B[38;5;28mid\u001B[39m(frame)))\n\u001B[32m   1239\u001B[39m \u001B[38;5;66;03m# process any stepping instructions\u001B[39;00m\n",
      "\u001B[31mKeyboardInterrupt\u001B[39m: "
     ]
    }
   ],
   "execution_count": 61
  },
  {
   "metadata": {
    "ExecuteTime": {
     "end_time": "2025-03-09T07:26:37.985308Z",
     "start_time": "2025-03-09T07:26:37.983160Z"
    }
   },
   "cell_type": "code",
   "source": "",
   "id": "1e6fc0f91cc5d484",
   "outputs": [],
   "execution_count": null
  },
  {
   "metadata": {
    "ExecuteTime": {
     "end_time": "2025-03-09T07:26:38.037006Z",
     "start_time": "2025-03-09T07:26:38.033820Z"
    }
   },
   "cell_type": "code",
   "source": "",
   "id": "38aaf48a1468299d",
   "outputs": [],
   "execution_count": null
  }
 ],
 "metadata": {
  "kernelspec": {
   "display_name": "Python 3",
   "language": "python",
   "name": "python3"
  },
  "language_info": {
   "codemirror_mode": {
    "name": "ipython",
    "version": 2
   },
   "file_extension": ".py",
   "mimetype": "text/x-python",
   "name": "python",
   "nbconvert_exporter": "python",
   "pygments_lexer": "ipython2",
   "version": "2.7.6"
  }
 },
 "nbformat": 4,
 "nbformat_minor": 5
}
