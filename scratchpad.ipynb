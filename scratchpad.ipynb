{
 "cells": [
  {
   "cell_type": "code",
   "id": "initial_id",
   "metadata": {
    "collapsed": true,
    "ExecuteTime": {
     "end_time": "2025-03-10T21:36:48.143006Z",
     "start_time": "2025-03-10T21:35:53.831100Z"
    }
   },
   "source": [
    "from gallerysearch.index import TagIndex\n",
    "\n",
    "\"\"\"Experimenting with trying to get to semantic search by embedding tags, but doesn't work very well\"\"\"\n",
    "\n",
    "i = TagIndex('/home/josh/Pictures/gallery-dl')\n"
   ],
   "outputs": [
    {
     "name": "stderr",
     "output_type": "stream",
     "text": [
      "Loading tags:   0%|          | 1/21342 [00:51<303:41:16, 51.23s/it]"
     ]
    },
    {
     "ename": "KeyboardInterrupt",
     "evalue": "",
     "output_type": "error",
     "traceback": [
      "\u001B[31m---------------------------------------------------------------------------\u001B[39m",
      "\u001B[31mKeyboardInterrupt\u001B[39m                         Traceback (most recent call last)",
      "\u001B[36mFile \u001B[39m\u001B[32m~/miniconda3/envs/gallerysearch/lib/python3.13/site-packages/tqdm/std.py:1191\u001B[39m, in \u001B[36mtqdm.__iter__\u001B[39m\u001B[34m(self)\u001B[39m\n\u001B[32m   1190\u001B[39m \u001B[38;5;28;01mif\u001B[39;00m dt >= mininterval \u001B[38;5;129;01mand\u001B[39;00m cur_t >= min_start_t:\n\u001B[32m-> \u001B[39m\u001B[32m1191\u001B[39m     \u001B[38;5;28;43mself\u001B[39;49m\u001B[43m.\u001B[49m\u001B[43mupdate\u001B[49m\u001B[43m(\u001B[49m\u001B[43mn\u001B[49m\u001B[43m \u001B[49m\u001B[43m-\u001B[49m\u001B[43m \u001B[49m\u001B[43mlast_print_n\u001B[49m\u001B[43m)\u001B[49m\n\u001B[32m   1192\u001B[39m     last_print_n = \u001B[38;5;28mself\u001B[39m.last_print_n\n",
      "\u001B[36mFile \u001B[39m\u001B[32m~/miniconda3/envs/gallerysearch/lib/python3.13/site-packages/tqdm/std.py:1242\u001B[39m, in \u001B[36mtqdm.update\u001B[39m\u001B[34m(self, n)\u001B[39m\n\u001B[32m   1241\u001B[39m     \u001B[38;5;28mself\u001B[39m._ema_dt(dt)\n\u001B[32m-> \u001B[39m\u001B[32m1242\u001B[39m \u001B[38;5;28;43mself\u001B[39;49m\u001B[43m.\u001B[49m\u001B[43mrefresh\u001B[49m\u001B[43m(\u001B[49m\u001B[43mlock_args\u001B[49m\u001B[43m=\u001B[49m\u001B[38;5;28;43mself\u001B[39;49m\u001B[43m.\u001B[49m\u001B[43mlock_args\u001B[49m\u001B[43m)\u001B[49m\n\u001B[32m   1243\u001B[39m \u001B[38;5;28;01mif\u001B[39;00m \u001B[38;5;28mself\u001B[39m.dynamic_miniters:\n\u001B[32m   1244\u001B[39m     \u001B[38;5;66;03m# If no `miniters` was specified, adjust automatically to the\u001B[39;00m\n\u001B[32m   1245\u001B[39m     \u001B[38;5;66;03m# maximum iteration rate seen so far between two prints.\u001B[39;00m\n\u001B[32m   1246\u001B[39m     \u001B[38;5;66;03m# e.g.: After running `tqdm.update(5)`, subsequent\u001B[39;00m\n\u001B[32m   1247\u001B[39m     \u001B[38;5;66;03m# calls to `tqdm.update()` will only cause an update after\u001B[39;00m\n\u001B[32m   1248\u001B[39m     \u001B[38;5;66;03m# at least 5 more iterations.\u001B[39;00m\n",
      "\u001B[36mFile \u001B[39m\u001B[32m~/miniconda3/envs/gallerysearch/lib/python3.13/site-packages/tqdm/std.py:1347\u001B[39m, in \u001B[36mtqdm.refresh\u001B[39m\u001B[34m(self, nolock, lock_args)\u001B[39m\n\u001B[32m   1346\u001B[39m         \u001B[38;5;28mself\u001B[39m._lock.acquire()\n\u001B[32m-> \u001B[39m\u001B[32m1347\u001B[39m \u001B[38;5;28;43mself\u001B[39;49m\u001B[43m.\u001B[49m\u001B[43mdisplay\u001B[49m\u001B[43m(\u001B[49m\u001B[43m)\u001B[49m\n\u001B[32m   1348\u001B[39m \u001B[38;5;28;01mif\u001B[39;00m \u001B[38;5;129;01mnot\u001B[39;00m nolock:\n",
      "\u001B[36mFile \u001B[39m\u001B[32m~/miniconda3/envs/gallerysearch/lib/python3.13/site-packages/tqdm/std.py:1495\u001B[39m, in \u001B[36mtqdm.display\u001B[39m\u001B[34m(self, msg, pos)\u001B[39m\n\u001B[32m   1494\u001B[39m     \u001B[38;5;28mself\u001B[39m.moveto(pos)\n\u001B[32m-> \u001B[39m\u001B[32m1495\u001B[39m \u001B[38;5;28;43mself\u001B[39;49m\u001B[43m.\u001B[49m\u001B[43msp\u001B[49m\u001B[43m(\u001B[49m\u001B[38;5;28;43mself\u001B[39;49m\u001B[43m.\u001B[49m\u001B[34;43m__str__\u001B[39;49m\u001B[43m(\u001B[49m\u001B[43m)\u001B[49m\u001B[43m \u001B[49m\u001B[38;5;28;43;01mif\u001B[39;49;00m\u001B[43m \u001B[49m\u001B[43mmsg\u001B[49m\u001B[43m \u001B[49m\u001B[38;5;129;43;01mis\u001B[39;49;00m\u001B[43m \u001B[49m\u001B[38;5;28;43;01mNone\u001B[39;49;00m\u001B[43m \u001B[49m\u001B[38;5;28;43;01melse\u001B[39;49;00m\u001B[43m \u001B[49m\u001B[43mmsg\u001B[49m\u001B[43m)\u001B[49m\n\u001B[32m   1496\u001B[39m \u001B[38;5;28;01mif\u001B[39;00m pos:\n",
      "\u001B[36mFile \u001B[39m\u001B[32m~/miniconda3/envs/gallerysearch/lib/python3.13/site-packages/tqdm/std.py:459\u001B[39m, in \u001B[36mtqdm.status_printer.<locals>.print_status\u001B[39m\u001B[34m(s)\u001B[39m\n\u001B[32m    458\u001B[39m len_s = disp_len(s)\n\u001B[32m--> \u001B[39m\u001B[32m459\u001B[39m \u001B[43mfp_write\u001B[49m\u001B[43m(\u001B[49m\u001B[33;43m'\u001B[39;49m\u001B[38;5;130;43;01m\\r\u001B[39;49;00m\u001B[33;43m'\u001B[39;49m\u001B[43m \u001B[49m\u001B[43m+\u001B[49m\u001B[43m \u001B[49m\u001B[43ms\u001B[49m\u001B[43m \u001B[49m\u001B[43m+\u001B[49m\u001B[43m \u001B[49m\u001B[43m(\u001B[49m\u001B[33;43m'\u001B[39;49m\u001B[33;43m \u001B[39;49m\u001B[33;43m'\u001B[39;49m\u001B[43m \u001B[49m\u001B[43m*\u001B[49m\u001B[43m \u001B[49m\u001B[38;5;28;43mmax\u001B[39;49m\u001B[43m(\u001B[49m\u001B[43mlast_len\u001B[49m\u001B[43m[\u001B[49m\u001B[32;43m0\u001B[39;49m\u001B[43m]\u001B[49m\u001B[43m \u001B[49m\u001B[43m-\u001B[49m\u001B[43m \u001B[49m\u001B[43mlen_s\u001B[49m\u001B[43m,\u001B[49m\u001B[43m \u001B[49m\u001B[32;43m0\u001B[39;49m\u001B[43m)\u001B[49m\u001B[43m)\u001B[49m\u001B[43m)\u001B[49m\n\u001B[32m    460\u001B[39m last_len[\u001B[32m0\u001B[39m] = len_s\n",
      "\u001B[36mFile \u001B[39m\u001B[32m~/miniconda3/envs/gallerysearch/lib/python3.13/site-packages/tqdm/std.py:453\u001B[39m, in \u001B[36mtqdm.status_printer.<locals>.fp_write\u001B[39m\u001B[34m(s)\u001B[39m\n\u001B[32m    452\u001B[39m fp.write(\u001B[38;5;28mstr\u001B[39m(s))\n\u001B[32m--> \u001B[39m\u001B[32m453\u001B[39m \u001B[43mfp_flush\u001B[49m\u001B[43m(\u001B[49m\u001B[43m)\u001B[49m\n",
      "\u001B[36mFile \u001B[39m\u001B[32m~/miniconda3/envs/gallerysearch/lib/python3.13/site-packages/tqdm/utils.py:196\u001B[39m, in \u001B[36mDisableOnWriteError.disable_on_exception.<locals>.inner\u001B[39m\u001B[34m(*args, **kwargs)\u001B[39m\n\u001B[32m    195\u001B[39m \u001B[38;5;28;01mtry\u001B[39;00m:\n\u001B[32m--> \u001B[39m\u001B[32m196\u001B[39m     \u001B[38;5;28;01mreturn\u001B[39;00m \u001B[43mfunc\u001B[49m\u001B[43m(\u001B[49m\u001B[43m*\u001B[49m\u001B[43margs\u001B[49m\u001B[43m,\u001B[49m\u001B[43m \u001B[49m\u001B[43m*\u001B[49m\u001B[43m*\u001B[49m\u001B[43mkwargs\u001B[49m\u001B[43m)\u001B[49m\n\u001B[32m    197\u001B[39m \u001B[38;5;28;01mexcept\u001B[39;00m \u001B[38;5;167;01mOSError\u001B[39;00m \u001B[38;5;28;01mas\u001B[39;00m e:\n",
      "\u001B[36mFile \u001B[39m\u001B[32m~/miniconda3/envs/gallerysearch/lib/python3.13/site-packages/ipykernel/iostream.py:609\u001B[39m, in \u001B[36mOutStream.flush\u001B[39m\u001B[34m(self)\u001B[39m\n\u001B[32m    608\u001B[39m \u001B[38;5;66;03m# and give a timeout to avoid\u001B[39;00m\n\u001B[32m--> \u001B[39m\u001B[32m609\u001B[39m \u001B[38;5;28;01mif\u001B[39;00m \u001B[38;5;129;01mnot\u001B[39;00m \u001B[43mevt\u001B[49m\u001B[43m.\u001B[49m\u001B[43mwait\u001B[49m\u001B[43m(\u001B[49m\u001B[38;5;28;43mself\u001B[39;49m\u001B[43m.\u001B[49m\u001B[43mflush_timeout\u001B[49m\u001B[43m)\u001B[49m:\n\u001B[32m    610\u001B[39m     \u001B[38;5;66;03m# write directly to __stderr__ instead of warning because\u001B[39;00m\n\u001B[32m    611\u001B[39m     \u001B[38;5;66;03m# if this is happening sys.stderr may be the problem.\u001B[39;00m\n\u001B[32m    612\u001B[39m     \u001B[38;5;28mprint\u001B[39m(\u001B[33m\"\u001B[39m\u001B[33mIOStream.flush timed out\u001B[39m\u001B[33m\"\u001B[39m, file=sys.__stderr__)\n",
      "\u001B[36mFile \u001B[39m\u001B[32m~/miniconda3/envs/gallerysearch/lib/python3.13/threading.py:659\u001B[39m, in \u001B[36mEvent.wait\u001B[39m\u001B[34m(self, timeout)\u001B[39m\n\u001B[32m    658\u001B[39m \u001B[38;5;28;01mif\u001B[39;00m \u001B[38;5;129;01mnot\u001B[39;00m signaled:\n\u001B[32m--> \u001B[39m\u001B[32m659\u001B[39m     signaled = \u001B[38;5;28;43mself\u001B[39;49m\u001B[43m.\u001B[49m\u001B[43m_cond\u001B[49m\u001B[43m.\u001B[49m\u001B[43mwait\u001B[49m\u001B[43m(\u001B[49m\u001B[43mtimeout\u001B[49m\u001B[43m)\u001B[49m\n\u001B[32m    660\u001B[39m \u001B[38;5;28;01mreturn\u001B[39;00m signaled\n",
      "\u001B[36mFile \u001B[39m\u001B[32m~/miniconda3/envs/gallerysearch/lib/python3.13/threading.py:363\u001B[39m, in \u001B[36mCondition.wait\u001B[39m\u001B[34m(self, timeout)\u001B[39m\n\u001B[32m    362\u001B[39m \u001B[38;5;28;01mif\u001B[39;00m timeout > \u001B[32m0\u001B[39m:\n\u001B[32m--> \u001B[39m\u001B[32m363\u001B[39m     gotit = \u001B[43mwaiter\u001B[49m\u001B[43m.\u001B[49m\u001B[43macquire\u001B[49m\u001B[43m(\u001B[49m\u001B[38;5;28;43;01mTrue\u001B[39;49;00m\u001B[43m,\u001B[49m\u001B[43m \u001B[49m\u001B[43mtimeout\u001B[49m\u001B[43m)\u001B[49m\n\u001B[32m    364\u001B[39m \u001B[38;5;28;01melse\u001B[39;00m:\n",
      "\u001B[31mKeyboardInterrupt\u001B[39m: ",
      "\nDuring handling of the above exception, another exception occurred:\n",
      "\u001B[31mKeyboardInterrupt\u001B[39m                         Traceback (most recent call last)",
      "\u001B[36mCell\u001B[39m\u001B[36m \u001B[39m\u001B[32mIn[2]\u001B[39m\u001B[32m, line 5\u001B[39m\n\u001B[32m      1\u001B[39m \u001B[38;5;28;01mfrom\u001B[39;00m\u001B[38;5;250m \u001B[39m\u001B[34;01mgallerysearch\u001B[39;00m\u001B[34;01m.\u001B[39;00m\u001B[34;01mindex\u001B[39;00m\u001B[38;5;250m \u001B[39m\u001B[38;5;28;01mimport\u001B[39;00m TagIndex\n\u001B[32m      3\u001B[39m \u001B[33;03m\"\"\"Experimenting with trying to get to semantic search by embedding tags, but doesn't work very well\"\"\"\u001B[39;00m\n\u001B[32m----> \u001B[39m\u001B[32m5\u001B[39m i = \u001B[43mTagIndex\u001B[49m\u001B[43m(\u001B[49m\u001B[33;43m'\u001B[39;49m\u001B[33;43m/home/josh/Pictures/gallery-dl\u001B[39;49m\u001B[33;43m'\u001B[39;49m\u001B[43m)\u001B[49m\n",
      "\u001B[36mFile \u001B[39m\u001B[32m~/projects/gallerysearch/gallerysearch/index.py:33\u001B[39m, in \u001B[36mTagIndex.__init__\u001B[39m\u001B[34m(self, directory)\u001B[39m\n\u001B[32m     30\u001B[39m \u001B[38;5;28mself\u001B[39m.pairs_by_tag = defaultdict(\u001B[38;5;28mset\u001B[39m)\n\u001B[32m     31\u001B[39m \u001B[38;5;28mself\u001B[39m.pairs_by_rating = defaultdict(\u001B[38;5;28mset\u001B[39m)\n\u001B[32m---> \u001B[39m\u001B[32m33\u001B[39m \u001B[43m\u001B[49m\u001B[38;5;28;43;01mfor\u001B[39;49;00m\u001B[43m \u001B[49m\u001B[43mpair\u001B[49m\u001B[43m \u001B[49m\u001B[38;5;129;43;01min\u001B[39;49;00m\u001B[43m \u001B[49m\u001B[43mtqdm\u001B[49m\u001B[43m(\u001B[49m\u001B[38;5;28;43mself\u001B[39;49m\u001B[43m.\u001B[49m\u001B[43mgallery_pairs\u001B[49m\u001B[43m,\u001B[49m\u001B[43m \u001B[49m\u001B[43mdesc\u001B[49m\u001B[43m=\u001B[49m\u001B[33;43m\"\u001B[39;49m\u001B[33;43mLoading tags\u001B[39;49m\u001B[33;43m\"\u001B[39;49m\u001B[43m)\u001B[49m\u001B[43m:\u001B[49m\n\u001B[32m     34\u001B[39m \u001B[43m    \u001B[49m\u001B[38;5;28;43;01mwith\u001B[39;49;00m\u001B[43m \u001B[49m\u001B[38;5;28;43mopen\u001B[39;49m\u001B[43m(\u001B[49m\u001B[43mpair\u001B[49m\u001B[43m.\u001B[49m\u001B[43mjson_file\u001B[49m\u001B[43m)\u001B[49m\u001B[43m \u001B[49m\u001B[38;5;28;43;01mas\u001B[39;49;00m\u001B[43m \u001B[49m\u001B[43mf\u001B[49m\u001B[43m:\u001B[49m\n\u001B[32m     35\u001B[39m \u001B[43m        \u001B[49m\u001B[43mdata\u001B[49m\u001B[43m \u001B[49m\u001B[43m=\u001B[49m\u001B[43m \u001B[49m\u001B[43mjson\u001B[49m\u001B[43m.\u001B[49m\u001B[43mload\u001B[49m\u001B[43m(\u001B[49m\u001B[43mf\u001B[49m\u001B[43m)\u001B[49m\n",
      "\u001B[36mFile \u001B[39m\u001B[32m~/miniconda3/envs/gallerysearch/lib/python3.13/site-packages/tqdm/std.py:1196\u001B[39m, in \u001B[36mtqdm.__iter__\u001B[39m\u001B[34m(self)\u001B[39m\n\u001B[32m   1194\u001B[39m \u001B[38;5;28;01mfinally\u001B[39;00m:\n\u001B[32m   1195\u001B[39m     \u001B[38;5;28mself\u001B[39m.n = n\n\u001B[32m-> \u001B[39m\u001B[32m1196\u001B[39m     \u001B[38;5;28;43mself\u001B[39;49m\u001B[43m.\u001B[49m\u001B[43mclose\u001B[49m\u001B[43m(\u001B[49m\u001B[43m)\u001B[49m\n",
      "\u001B[36mFile \u001B[39m\u001B[32m~/miniconda3/envs/gallerysearch/lib/python3.13/site-packages/tqdm/std.py:1275\u001B[39m, in \u001B[36mtqdm.close\u001B[39m\u001B[34m(self)\u001B[39m\n\u001B[32m   1273\u001B[39m \u001B[38;5;66;03m# decrement instance pos and remove from internal set\u001B[39;00m\n\u001B[32m   1274\u001B[39m pos = \u001B[38;5;28mabs\u001B[39m(\u001B[38;5;28mself\u001B[39m.pos)\n\u001B[32m-> \u001B[39m\u001B[32m1275\u001B[39m \u001B[38;5;28;43mself\u001B[39;49m\u001B[43m.\u001B[49m\u001B[43m_decr_instances\u001B[49m\u001B[43m(\u001B[49m\u001B[38;5;28;43mself\u001B[39;49m\u001B[43m)\u001B[49m\n\u001B[32m   1277\u001B[39m \u001B[38;5;28;01mif\u001B[39;00m \u001B[38;5;28mself\u001B[39m.last_print_t < \u001B[38;5;28mself\u001B[39m.start_t + \u001B[38;5;28mself\u001B[39m.delay:\n\u001B[32m   1278\u001B[39m     \u001B[38;5;66;03m# haven't ever displayed; nothing to clear\u001B[39;00m\n\u001B[32m   1279\u001B[39m     \u001B[38;5;28;01mreturn\u001B[39;00m\n",
      "\u001B[36mFile \u001B[39m\u001B[32m~/miniconda3/envs/gallerysearch/lib/python3.13/site-packages/tqdm/std.py:698\u001B[39m, in \u001B[36mtqdm._decr_instances\u001B[39m\u001B[34m(cls, instance)\u001B[39m\n\u001B[32m    696\u001B[39m \u001B[38;5;28;01mwith\u001B[39;00m \u001B[38;5;28mcls\u001B[39m._lock:\n\u001B[32m    697\u001B[39m     \u001B[38;5;28;01mtry\u001B[39;00m:\n\u001B[32m--> \u001B[39m\u001B[32m698\u001B[39m         \u001B[38;5;28;43mcls\u001B[39;49m\u001B[43m.\u001B[49m\u001B[43m_instances\u001B[49m\u001B[43m.\u001B[49m\u001B[43mremove\u001B[49m\u001B[43m(\u001B[49m\u001B[43minstance\u001B[49m\u001B[43m)\u001B[49m\n\u001B[32m    699\u001B[39m     \u001B[38;5;28;01mexcept\u001B[39;00m \u001B[38;5;167;01mKeyError\u001B[39;00m:\n\u001B[32m    700\u001B[39m         \u001B[38;5;66;03m# if not instance.gui:  # pragma: no cover\u001B[39;00m\n\u001B[32m    701\u001B[39m         \u001B[38;5;66;03m#     raise\u001B[39;00m\n\u001B[32m    702\u001B[39m         \u001B[38;5;28;01mpass\u001B[39;00m  \u001B[38;5;66;03m# py2: maybe magically removed already\u001B[39;00m\n",
      "\u001B[36mFile \u001B[39m\u001B[32m~/miniconda3/envs/gallerysearch/lib/python3.13/_weakrefset.py:113\u001B[39m, in \u001B[36mWeakSet.remove\u001B[39m\u001B[34m(self, item)\u001B[39m\n\u001B[32m    111\u001B[39m \u001B[38;5;28;01mif\u001B[39;00m \u001B[38;5;28mself\u001B[39m._pending_removals:\n\u001B[32m    112\u001B[39m     \u001B[38;5;28mself\u001B[39m._commit_removals()\n\u001B[32m--> \u001B[39m\u001B[32m113\u001B[39m \u001B[38;5;28;43mself\u001B[39;49m\u001B[43m.\u001B[49m\u001B[43mdata\u001B[49m\u001B[43m.\u001B[49m\u001B[43mremove\u001B[49m\u001B[43m(\u001B[49m\u001B[43mref\u001B[49m\u001B[43m(\u001B[49m\u001B[43mitem\u001B[49m\u001B[43m)\u001B[49m\u001B[43m)\u001B[49m\n",
      "\u001B[36mFile \u001B[39m\u001B[32m~/miniconda3/envs/gallerysearch/lib/python3.13/site-packages/tqdm/utils.py:126\u001B[39m, in \u001B[36mComparable.__eq__\u001B[39m\u001B[34m(self, other)\u001B[39m\n\u001B[32m    125\u001B[39m \u001B[38;5;28;01mdef\u001B[39;00m\u001B[38;5;250m \u001B[39m\u001B[34m__eq__\u001B[39m(\u001B[38;5;28mself\u001B[39m, other):\n\u001B[32m--> \u001B[39m\u001B[32m126\u001B[39m     \u001B[38;5;28;01mreturn\u001B[39;00m \u001B[38;5;28;43mself\u001B[39;49m\u001B[43m.\u001B[49m\u001B[43m_comparable\u001B[49m == other._comparable\n",
      "\u001B[36mFile \u001B[39m\u001B[32m~/miniconda3/envs/gallerysearch/lib/python3.13/site-packages/tqdm/std.py:1153\u001B[39m, in \u001B[36mtqdm._comparable\u001B[39m\u001B[34m(self)\u001B[39m\n\u001B[32m   1150\u001B[39m \u001B[38;5;28;01mdef\u001B[39;00m\u001B[38;5;250m \u001B[39m\u001B[34m__str__\u001B[39m(\u001B[38;5;28mself\u001B[39m):\n\u001B[32m   1151\u001B[39m     \u001B[38;5;28;01mreturn\u001B[39;00m \u001B[38;5;28mself\u001B[39m.format_meter(**\u001B[38;5;28mself\u001B[39m.format_dict)\n\u001B[32m-> \u001B[39m\u001B[32m1153\u001B[39m \u001B[38;5;129m@property\u001B[39m\n\u001B[32m   1154\u001B[39m \u001B[38;5;28;01mdef\u001B[39;00m\u001B[38;5;250m \u001B[39m\u001B[34m_comparable\u001B[39m(\u001B[38;5;28mself\u001B[39m):\n\u001B[32m   1155\u001B[39m     \u001B[38;5;28;01mreturn\u001B[39;00m \u001B[38;5;28mabs\u001B[39m(\u001B[38;5;28mgetattr\u001B[39m(\u001B[38;5;28mself\u001B[39m, \u001B[33m\"\u001B[39m\u001B[33mpos\u001B[39m\u001B[33m\"\u001B[39m, \u001B[32m1\u001B[39m << \u001B[32m31\u001B[39m))\n\u001B[32m   1157\u001B[39m \u001B[38;5;28;01mdef\u001B[39;00m\u001B[38;5;250m \u001B[39m\u001B[34m__hash__\u001B[39m(\u001B[38;5;28mself\u001B[39m):\n",
      "\u001B[31mKeyboardInterrupt\u001B[39m: "
     ]
    }
   ],
   "execution_count": 2
  },
  {
   "metadata": {
    "ExecuteTime": {
     "end_time": "2025-03-09T07:48:21.252622Z",
     "start_time": "2025-03-09T07:48:00.424395Z"
    }
   },
   "cell_type": "code",
   "source": [
    "import faiss\n",
    "from sentence_transformers import SentenceTransformer\n",
    "\n",
    "tags = [x.replace('_', ' ') for x in i.pairs_by_tag.keys()]\n",
    "model = SentenceTransformer(\"all-MiniLM-L6-v2\")\n",
    "\n",
    "# Encode tags into embeddings\n",
    "embeddings = model.encode(tags, convert_to_numpy=True, show_progress_bar=True)\n",
    "\n",
    "# Create a FAISS index\n",
    "d = embeddings.shape[1]  # Dimension of embeddings\n",
    "index = faiss.IndexFlatL2(d)  # L2 (Euclidean) distance index\n",
    "index.add(embeddings)  # Add embeddings to the index"
   ],
   "id": "838f452a0d79aed5",
   "outputs": [
    {
     "name": "stderr",
     "output_type": "stream",
     "text": [
      "Batches: 100%|██████████| 268/268 [00:19<00:00, 13.75it/s]\n"
     ]
    }
   ],
   "execution_count": 56
  },
  {
   "metadata": {
    "ExecuteTime": {
     "end_time": "2025-03-09T17:53:49.954682Z",
     "start_time": "2025-03-09T17:53:14.326793Z"
    }
   },
   "cell_type": "code",
   "source": [
    "from IPython.display import display\n",
    "from PIL import Image\n",
    "import math\n",
    "\n",
    "# Function to search the index\n",
    "def search_faiss(query, k=5):\n",
    "    query_embedding = model.encode([query], convert_to_numpy=True)\n",
    "    distances, indices = index.search(query_embedding, k)\n",
    "    return [(tags[idx], distances[0][i]) for i, idx in enumerate(indices[0])]\n",
    "\n",
    "# Example Query\n",
    "query = \"beach and ocean\"\n",
    "results = search_faiss(query, k=len(tags))\n",
    "\n",
    "# Print results\n",
    "tag_scores = {x: float(y) for x,y in results}\n",
    "\n",
    "def image_score(img_tags: list[str]):\n",
    "    img_tags = [x.replace('_', ' ') for x in img_tags]\n",
    "    scores = [tag_scores.get(tag, 0) for tag in img_tags]\n",
    "\n",
    "    # return average of top 5 tags\n",
    "    #return sum(sorted(scores, reverse=True)[:5]) / 5\n",
    "\n",
    "    return sum(scores) / len(scores)\n",
    "\n",
    "scored_images = [\n",
    "    (pair, image_score(img_tags))\n",
    "    for pair, img_tags in i.tags_by_pair.items()\n",
    "]\n",
    "scored_images.sort(key=lambda x: x[1], reverse=True)\n",
    "\n",
    "# List of image paths\n",
    "image_paths = [x[0].img_file for x in scored_images[:5]]\n",
    "\n",
    "# Open and display images\n",
    "new_size = (300, 300)\n",
    "\n",
    "# Open, resize, and display images\n",
    "images = [Image.open(path).resize(new_size).convert(\"RGB\") for path in image_paths]\n",
    "display(*images)\n",
    "print(image_paths)"
   ],
   "id": "44ec49fa1559fc06",
   "outputs": [
    {
     "ename": "KeyboardInterrupt",
     "evalue": "",
     "output_type": "error",
     "traceback": [
      "\u001B[31m---------------------------------------------------------------------------\u001B[39m",
      "\u001B[31mKeyboardInterrupt\u001B[39m                         Traceback (most recent call last)",
      "\u001B[36mCell\u001B[39m\u001B[36m \u001B[39m\u001B[32mIn[61]\u001B[39m\u001B[32m, line 28\u001B[39m\n\u001B[32m     22\u001B[39m     \u001B[38;5;66;03m# return average of top 5 tags\u001B[39;00m\n\u001B[32m     23\u001B[39m     \u001B[38;5;66;03m#return sum(sorted(scores, reverse=True)[:5]) / 5\u001B[39;00m\n\u001B[32m     25\u001B[39m     \u001B[38;5;28;01mreturn\u001B[39;00m \u001B[38;5;28msum\u001B[39m(scores) / \u001B[38;5;28mlen\u001B[39m(scores)\n\u001B[32m     27\u001B[39m scored_images = [\n\u001B[32m---> \u001B[39m\u001B[32m28\u001B[39m     (pair, \u001B[43mimage_score\u001B[49m\u001B[43m(\u001B[49m\u001B[43mimg_tags\u001B[49m\u001B[43m)\u001B[49m)\n\u001B[32m     29\u001B[39m     \u001B[38;5;28;01mfor\u001B[39;00m pair, img_tags \u001B[38;5;129;01min\u001B[39;00m i.tags_by_pair.items()\n\u001B[32m     30\u001B[39m ]\n\u001B[32m     31\u001B[39m scored_images.sort(key=\u001B[38;5;28;01mlambda\u001B[39;00m x: x[\u001B[32m1\u001B[39m], reverse=\u001B[38;5;28;01mTrue\u001B[39;00m)\n\u001B[32m     33\u001B[39m \u001B[38;5;66;03m# List of image paths\u001B[39;00m\n",
      "\u001B[36mCell\u001B[39m\u001B[36m \u001B[39m\u001B[32mIn[61]\u001B[39m\u001B[32m, line 25\u001B[39m, in \u001B[36mimage_score\u001B[39m\u001B[34m(img_tags)\u001B[39m\n\u001B[32m     20\u001B[39m scores = [tag_scores.get(tag, \u001B[32m0\u001B[39m) \u001B[38;5;28;01mfor\u001B[39;00m tag \u001B[38;5;129;01min\u001B[39;00m img_tags]\n\u001B[32m     22\u001B[39m \u001B[38;5;66;03m# return average of top 5 tags\u001B[39;00m\n\u001B[32m     23\u001B[39m \u001B[38;5;66;03m#return sum(sorted(scores, reverse=True)[:5]) / 5\u001B[39;00m\n\u001B[32m---> \u001B[39m\u001B[32m25\u001B[39m \u001B[38;5;28;01mreturn\u001B[39;00m \u001B[38;5;28;43msum\u001B[39;49m(scores) / \u001B[38;5;28mlen\u001B[39m(scores)\n",
      "\u001B[36mFile \u001B[39m\u001B[32m/app/extra/plugins/python-ce/helpers/pydev/_pydevd_bundle/pydevd_frame.py:755\u001B[39m, in \u001B[36mPyDBFrame.trace_dispatch\u001B[39m\u001B[34m(self, frame, event, arg)\u001B[39m\n\u001B[32m    753\u001B[39m \u001B[38;5;66;03m# if thread has a suspend flag, we suspend with a busy wait\u001B[39;00m\n\u001B[32m    754\u001B[39m \u001B[38;5;28;01mif\u001B[39;00m info.pydev_state == STATE_SUSPEND:\n\u001B[32m--> \u001B[39m\u001B[32m755\u001B[39m     \u001B[38;5;28;43mself\u001B[39;49m\u001B[43m.\u001B[49m\u001B[43mdo_wait_suspend\u001B[49m\u001B[43m(\u001B[49m\u001B[43mthread\u001B[49m\u001B[43m,\u001B[49m\u001B[43m \u001B[49m\u001B[43mframe\u001B[49m\u001B[43m,\u001B[49m\u001B[43m \u001B[49m\u001B[43mevent\u001B[49m\u001B[43m,\u001B[49m\u001B[43m \u001B[49m\u001B[43marg\u001B[49m\u001B[43m)\u001B[49m\n\u001B[32m    756\u001B[39m     \u001B[38;5;66;03m# No need to reset frame.f_trace to keep the same trace function.\u001B[39;00m\n\u001B[32m    757\u001B[39m     \u001B[38;5;28;01mreturn\u001B[39;00m \u001B[38;5;28mself\u001B[39m.trace_dispatch\n",
      "\u001B[36mFile \u001B[39m\u001B[32m/app/extra/plugins/python-ce/helpers/pydev/_pydevd_bundle/pydevd_frame.py:412\u001B[39m, in \u001B[36mPyDBFrame.do_wait_suspend\u001B[39m\u001B[34m(self, *args, **kwargs)\u001B[39m\n\u001B[32m    411\u001B[39m \u001B[38;5;28;01mdef\u001B[39;00m\u001B[38;5;250m \u001B[39m\u001B[34mdo_wait_suspend\u001B[39m(\u001B[38;5;28mself\u001B[39m, *args, **kwargs):\n\u001B[32m--> \u001B[39m\u001B[32m412\u001B[39m     \u001B[38;5;28;43mself\u001B[39;49m\u001B[43m.\u001B[49m\u001B[43m_args\u001B[49m\u001B[43m[\u001B[49m\u001B[32;43m0\u001B[39;49m\u001B[43m]\u001B[49m\u001B[43m.\u001B[49m\u001B[43mdo_wait_suspend\u001B[49m\u001B[43m(\u001B[49m\u001B[43m*\u001B[49m\u001B[43margs\u001B[49m\u001B[43m,\u001B[49m\u001B[43m \u001B[49m\u001B[43m*\u001B[49m\u001B[43m*\u001B[49m\u001B[43mkwargs\u001B[49m\u001B[43m)\u001B[49m\n",
      "\u001B[36mFile \u001B[39m\u001B[32m/app/extra/plugins/python-ce/helpers/pydev/pydevd.py:1220\u001B[39m, in \u001B[36mPyDB.do_wait_suspend\u001B[39m\u001B[34m(self, thread, frame, event, arg, send_suspend_message, is_unhandled_exception)\u001B[39m\n\u001B[32m   1217\u001B[39m         from_this_thread.append(frame_id)\n\u001B[32m   1219\u001B[39m \u001B[38;5;28;01mwith\u001B[39;00m \u001B[38;5;28mself\u001B[39m._threads_suspended_single_notification.notify_thread_suspended(thread_id, stop_reason):\n\u001B[32m-> \u001B[39m\u001B[32m1220\u001B[39m     \u001B[38;5;28;43mself\u001B[39;49m\u001B[43m.\u001B[49m\u001B[43m_do_wait_suspend\u001B[49m\u001B[43m(\u001B[49m\u001B[43mthread\u001B[49m\u001B[43m,\u001B[49m\u001B[43m \u001B[49m\u001B[43mframe\u001B[49m\u001B[43m,\u001B[49m\u001B[43m \u001B[49m\u001B[43mevent\u001B[49m\u001B[43m,\u001B[49m\u001B[43m \u001B[49m\u001B[43marg\u001B[49m\u001B[43m,\u001B[49m\u001B[43m \u001B[49m\u001B[43msuspend_type\u001B[49m\u001B[43m,\u001B[49m\u001B[43m \u001B[49m\u001B[43mfrom_this_thread\u001B[49m\u001B[43m)\u001B[49m\n",
      "\u001B[36mFile \u001B[39m\u001B[32m/app/extra/plugins/python-ce/helpers/pydev/pydevd.py:1235\u001B[39m, in \u001B[36mPyDB._do_wait_suspend\u001B[39m\u001B[34m(self, thread, frame, event, arg, suspend_type, from_this_thread)\u001B[39m\n\u001B[32m   1232\u001B[39m             \u001B[38;5;28mself\u001B[39m._call_mpl_hook()\n\u001B[32m   1234\u001B[39m         \u001B[38;5;28mself\u001B[39m.process_internal_commands()\n\u001B[32m-> \u001B[39m\u001B[32m1235\u001B[39m         \u001B[43mtime\u001B[49m\u001B[43m.\u001B[49m\u001B[43msleep\u001B[49m\u001B[43m(\u001B[49m\u001B[32;43m0.01\u001B[39;49m\u001B[43m)\u001B[49m\n\u001B[32m   1237\u001B[39m \u001B[38;5;28mself\u001B[39m.cancel_async_evaluation(get_current_thread_id(thread), \u001B[38;5;28mstr\u001B[39m(\u001B[38;5;28mid\u001B[39m(frame)))\n\u001B[32m   1239\u001B[39m \u001B[38;5;66;03m# process any stepping instructions\u001B[39;00m\n",
      "\u001B[31mKeyboardInterrupt\u001B[39m: "
     ]
    }
   ],
   "execution_count": 61
  },
  {
   "metadata": {
    "ExecuteTime": {
     "end_time": "2025-03-09T07:26:37.985308Z",
     "start_time": "2025-03-09T07:26:37.983160Z"
    }
   },
   "cell_type": "code",
   "source": "",
   "id": "1e6fc0f91cc5d484",
   "outputs": [],
   "execution_count": null
  },
  {
   "metadata": {
    "ExecuteTime": {
     "end_time": "2025-03-09T07:26:38.037006Z",
     "start_time": "2025-03-09T07:26:38.033820Z"
    }
   },
   "cell_type": "code",
   "source": "",
   "id": "38aaf48a1468299d",
   "outputs": [],
   "execution_count": null
  }
 ],
 "metadata": {
  "kernelspec": {
   "display_name": "Python 3",
   "language": "python",
   "name": "python3"
  },
  "language_info": {
   "codemirror_mode": {
    "name": "ipython",
    "version": 2
   },
   "file_extension": ".py",
   "mimetype": "text/x-python",
   "name": "python",
   "nbconvert_exporter": "python",
   "pygments_lexer": "ipython2",
   "version": "2.7.6"
  }
 },
 "nbformat": 4,
 "nbformat_minor": 5
}
